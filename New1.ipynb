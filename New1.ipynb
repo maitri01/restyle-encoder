{
 "cells": [
  {
   "cell_type": "code",
   "execution_count": 1,
   "metadata": {
    "id": "TpFLndabo0Uu"
   },
   "outputs": [],
   "source": [
    "# pip install tensorflow_federated"
   ]
  },
  {
   "cell_type": "code",
   "execution_count": 2,
   "metadata": {
    "id": "Po6mHrjqoRFB"
   },
   "outputs": [],
   "source": [
    "# import tensorflow as tf\n",
    "# from tensorflow_federated.python.simulation.datasets.celeba import load_data"
   ]
  },
  {
   "cell_type": "code",
   "execution_count": 3,
   "metadata": {
    "id": "ZhyzqaudqA9F"
   },
   "outputs": [],
   "source": [
    "# load_data"
   ]
  },
  {
   "cell_type": "code",
   "execution_count": 4,
   "metadata": {
    "id": "urncjv9Vq-CF"
   },
   "outputs": [],
   "source": [
    "# !mv /content/kaggle.json /root/.kaggle"
   ]
  },
  {
   "cell_type": "code",
   "execution_count": 5,
   "metadata": {
    "id": "9OBWG2oyqWu2"
   },
   "outputs": [],
   "source": [
    "# !kaggle datasets download -d jessicali9530/celeba-dataset"
   ]
  },
  {
   "cell_type": "code",
   "execution_count": 6,
   "metadata": {
    "id": "3V5qltDrrTM-"
   },
   "outputs": [],
   "source": [
    "# !unzip /content/celeba-dataset.zip"
   ]
  },
  {
   "cell_type": "code",
   "execution_count": 2,
   "metadata": {
    "id": "Uuviq3qQkUFy"
   },
   "outputs": [],
   "source": [
    "import os\n",
    "os.chdir('/STUDIES')\n",
    "CODE_DIR = 'restyle-encoder'"
   ]
  },
  {
   "cell_type": "code",
   "execution_count": 8,
   "metadata": {
    "id": "QQ6XEmlHlXbk"
   },
   "outputs": [],
   "source": [
    "# !git clone https://github.com/maitri01/restyle-encoder.git $CODE_DIR"
   ]
  },
  {
   "cell_type": "code",
   "execution_count": 9,
   "metadata": {
    "id": "JaRUFuVHkzye"
   },
   "outputs": [],
   "source": [
    "# !wget https://github.com/ninja-build/ninja/releases/download/v1.8.2/ninja-linux.zip\n",
    "# !sudo unzip ninja-linux.zip -d /usr/local/bin/\n",
    "# !sudo update-alternatives --install /usr/bin/ninja ninja /usr/local/bin/ninja 1 --force"
   ]
  },
  {
   "cell_type": "code",
   "execution_count": 10,
   "metadata": {
    "id": "nUP9-1iUumjI"
   },
   "outputs": [],
   "source": [
    "os.chdir(f'./{CODE_DIR}')"
   ]
  },
  {
   "cell_type": "code",
   "execution_count": 11,
   "metadata": {
    "id": "TIYDHalWyv0v"
   },
   "outputs": [],
   "source": [
    "# mkdir ./restyle-encoder/data"
   ]
  },
  {
   "cell_type": "code",
   "execution_count": 12,
   "metadata": {
    "id": "-wRTVq-xsVXs"
   },
   "outputs": [],
   "source": [
    "# !curl --load-cookies /tmp/cookies.txt \"https://docs.google.com/uc?export=download&confirm=$(wget --quiet --save-cookies /tmp/cookies.txt --keep-session-cookies --no-check-certificate 'https://docs.google.com/uc?export=download&id=1-IfPNi0cCfJ1ZqAewJfMHG8Ot-s8yh-z' -O- | sed -rn 's/.*confirm=([0-9A-Za-z_]+).*/\\1\\n/p')&id=1-IfPNi0cCfJ1ZqAewJfMHG8Ot-s8yh-z\" -O /STUDIES/restyle-encoder/data/ffhqdata.zip && rm -rf /tmp/cookies.txt\n",
    "# !unzip /STUDIES/restyle-encoder/data/ffhqdata.zip -d /STUDIES/restyle-encoder/data\n"
   ]
  },
  {
   "cell_type": "code",
   "execution_count": 13,
   "metadata": {
    "id": "NJ5ZIRK_zGzM"
   },
   "outputs": [],
   "source": [
    "# !mv /content/faces-dataset-small /content/restyle-encoder/data"
   ]
  },
  {
   "cell_type": "code",
   "execution_count": 14,
   "metadata": {
    "id": "W0GoDRJav3K2"
   },
   "outputs": [],
   "source": [
    "# #FFHQ StyleGAN\n",
    "\n",
    "# # https://drive.google.com/file/d/1EM87UquaoQmk17Q8d5kYIAHqu0dkYqdT/view\n",
    "\n",
    "# !wget --load-cookies /tmp/cookies.txt \"https://docs.google.com/uc?export=download&confirm=$(wget --quiet --save-cookies /tmp/cookies.txt --keep-session-cookies --no-check-certificate 'https://docs.google.com/uc?export=download&id=1EM87UquaoQmk17Q8d5kYIAHqu0dkYqdT' -O- | sed -rn 's/.*confirm=([0-9A-Za-z_]+).*/\\1\\n/p')&id=1EM87UquaoQmk17Q8d5kYIAHqu0dkYqdT\" -O /content/restyle-encoder/pretrained_models/stylegan2-ffhq-config-f.pt && rm -rf /tmp/cookies.txt"
   ]
  },
  {
   "cell_type": "code",
   "execution_count": 15,
   "metadata": {
    "id": "in0UzDMrwVoW"
   },
   "outputs": [],
   "source": [
    "# # IR-SE50 Model\n",
    "# # https://drive.google.com/file/d/1KW7bjndL3QG3sxBbZxreGHigcCCpsDgn/view\n",
    "\n",
    "# !wget --load-cookies /tmp/cookies.txt \"https://docs.google.com/uc?export=download&confirm=$(wget --quiet --save-cookies /tmp/cookies.txt --keep-session-cookies --no-check-certificate 'https://docs.google.com/uc?export=download&id=1KW7bjndL3QG3sxBbZxreGHigcCCpsDgn' -O- | sed -rn 's/.*confirm=([0-9A-Za-z_]+).*/\\1\\n/p')&id=1KW7bjndL3QG3sxBbZxreGHigcCCpsDgn\" -O /content/restyle-encoder/pretrained_models/model_ir_se50.pth && rm -rf /tmp/cookies.txt"
   ]
  },
  {
   "cell_type": "code",
   "execution_count": 4,
   "metadata": {
    "colab": {
     "base_uri": "https://localhost:8080/"
    },
    "id": "QqWM-DsKtWpG",
    "outputId": "1193ac84-19e3-44a1-8124-cfb22e209d34"
   },
   "outputs": [
    {
     "name": "stdout",
     "output_type": "stream",
     "text": [
      "No CUDA runtime is found, using CUDA_HOME='C:\\ProgramData\\Anaconda3\\envs\\restyle_env'\n"
     ]
    },
    {
     "name": "stderr",
     "output_type": "stream",
     "text": [
      "C:\\ProgramData\\Anaconda3\\envs\\restyle_env\\lib\\site-packages\\torch\\utils\\cpp_extension.py:316: UserWarning: Error checking compiler version for cl: [WinError 2] The system cannot find the file specified\n",
      "  warnings.warn(f'Error checking compiler version for {compiler}: {error}')\n",
      "Traceback (most recent call last):\n",
      "  File \"./scripts/train_restyle_psp.py\", line 13, in <module>\n",
      "    from training.coach_restyle_psp import Coach\n",
      "  File \".\\training\\coach_restyle_psp.py\", line 17, in <module>\n",
      "    from models.psp import pSp\n",
      "  File \".\\models\\psp.py\", line 8, in <module>\n",
      "    from models.stylegan2.model import Generator\n",
      "  File \".\\models\\stylegan2\\model.py\", line 7, in <module>\n",
      "    from models.stylegan2.op import FusedLeakyReLU, fused_leaky_relu, upfirdn2d\n",
      "  File \".\\models\\stylegan2\\op\\__init__.py\", line 1, in <module>\n",
      "    from .fused_act import FusedLeakyReLU, fused_leaky_relu\n",
      "  File \".\\models\\stylegan2\\op\\fused_act.py\", line 13, in <module>\n",
      "    os.path.join(module_path, 'fused_bias_act_kernel.cu'),\n",
      "  File \"C:\\ProgramData\\Anaconda3\\envs\\restyle_env\\lib\\site-packages\\torch\\utils\\cpp_extension.py\", line 1136, in load\n",
      "    keep_intermediates=keep_intermediates)\n",
      "  File \"C:\\ProgramData\\Anaconda3\\envs\\restyle_env\\lib\\site-packages\\torch\\utils\\cpp_extension.py\", line 1347, in _jit_compile\n",
      "    is_standalone=is_standalone)\n",
      "  File \"C:\\ProgramData\\Anaconda3\\envs\\restyle_env\\lib\\site-packages\\torch\\utils\\cpp_extension.py\", line 1445, in _write_ninja_file_and_build_library\n",
      "    is_standalone=is_standalone)\n",
      "  File \"C:\\ProgramData\\Anaconda3\\envs\\restyle_env\\lib\\site-packages\\torch\\utils\\cpp_extension.py\", line 1834, in _write_ninja_file_to_build_library\n",
      "    cuda_flags = common_cflags + COMMON_NVCC_FLAGS + _get_cuda_arch_flags()\n",
      "  File \"C:\\ProgramData\\Anaconda3\\envs\\restyle_env\\lib\\site-packages\\torch\\utils\\cpp_extension.py\", line 1606, in _get_cuda_arch_flags\n",
      "    arch_list[-1] += '+PTX'\n",
      "IndexError: list index out of range\n"
     ]
    }
   ],
   "source": [
    "!python ./scripts/train_restyle_psp.py \\\n",
    "--dataset_type=ffhq_encode \\\n",
    "--encoder_type=BackboneEncoder \\\n",
    "--exp_dir=experiment/restyle_psp_ffhq_encode \\\n",
    "--workers=8 \\\n",
    "--batch_size=8 \\\n",
    "--test_batch_size=8 \\\n",
    "--test_workers=8 \\\n",
    "--val_interval=5000 \\\n",
    "--save_interval=10000 \\\n",
    "--start_from_latent_avg \\\n",
    "--lpips_lambda=0.8 \\\n",
    "--l2_lambda=1 \\\n",
    "--w_norm_lambda=0 \\\n",
    "--id_lambda=0.1 \\\n",
    "--input_nc=6 \\\n",
    "--n_iters_per_batch=5 \\\n",
    "--output_size=1024 \\\n",
    "--stylegan_weights=pretrained_models/stylegan2-ffhq-config-f.pt"
   ]
  },
  {
   "cell_type": "code",
   "execution_count": 19,
   "metadata": {
    "colab": {
     "base_uri": "https://localhost:8080/",
     "height": 140
    },
    "id": "lSrLAieKI5Tg",
    "outputId": "6fea99dd-75a1-4b5b-bfcc-946cb308711a"
   },
   "outputs": [
    {
     "ename": "SyntaxError",
     "evalue": "ignored",
     "output_type": "error",
     "traceback": [
      "\u001b[1;36m  Cell \u001b[1;32mIn[19], line 1\u001b[1;36m\u001b[0m\n\u001b[1;33m    export FORCE_CUDA=\"1\"\u001b[0m\n\u001b[1;37m           ^\u001b[0m\n\u001b[1;31mSyntaxError\u001b[0m\u001b[1;31m:\u001b[0m invalid syntax\n"
     ]
    }
   ],
   "source": [
    "export FORCE_CUDA=\"1\""
   ]
  },
  {
   "cell_type": "code",
   "execution_count": 3,
   "metadata": {
    "colab": {
     "base_uri": "https://localhost:8080/"
    },
    "id": "iKRPDQQmsNpH",
    "outputId": "28f318d7-6c9d-422c-de0a-89fb59375f1c"
   },
   "outputs": [
    {
     "data": {
      "text/plain": [
       "'M:\\\\STUDIES\\\\restyle-encoder'"
      ]
     },
     "execution_count": 3,
     "metadata": {},
     "output_type": "execute_result"
    }
   ],
   "source": [
    "pwd"
   ]
  },
  {
   "cell_type": "code",
   "execution_count": 21,
   "metadata": {
    "colab": {
     "base_uri": "https://localhost:8080/"
    },
    "id": "5ub1SoZA9sM2",
    "outputId": "85fc7c3e-b02a-4186-c3a5-0619d81257d3"
   },
   "outputs": [
    {
     "name": "stdout",
     "output_type": "stream",
     "text": [
      "None\n"
     ]
    }
   ],
   "source": [
    "import os\n",
    "print(os.environ.get('CUDA_PATH'))"
   ]
  },
  {
   "cell_type": "code",
   "execution_count": 22,
   "metadata": {
    "id": "zYLyDDFqHaaM"
   },
   "outputs": [],
   "source": [
    "import torch"
   ]
  },
  {
   "cell_type": "code",
   "execution_count": 23,
   "metadata": {
    "colab": {
     "base_uri": "https://localhost:8080/"
    },
    "id": "nRetiRCbHeRv",
    "outputId": "1f32dc81-3bce-4e69-cd1a-efc2192d7b24"
   },
   "outputs": [
    {
     "data": {
      "text/plain": [
       "True"
      ]
     },
     "execution_count": 23,
     "metadata": {},
     "output_type": "execute_result"
    }
   ],
   "source": [
    "torch.cuda.is_available()"
   ]
  },
  {
   "cell_type": "code",
   "execution_count": 24,
   "metadata": {
    "colab": {
     "base_uri": "https://localhost:8080/"
    },
    "id": "RnTOemqGLwcg",
    "outputId": "0bf081c5-3827-4acb-a885-8bf87ac89323"
   },
   "outputs": [
    {
     "data": {
      "text/plain": [
       "0"
      ]
     },
     "execution_count": 24,
     "metadata": {},
     "output_type": "execute_result"
    }
   ],
   "source": [
    "torch.cuda.current_device()"
   ]
  },
  {
   "cell_type": "code",
   "execution_count": 26,
   "metadata": {
    "colab": {
     "base_uri": "https://localhost:8080/"
    },
    "id": "8RRj1p2oL9_o",
    "outputId": "aa1ac21d-faa9-4ad7-9618-d4daac74ce6f"
   },
   "outputs": [
    {
     "data": {
      "text/plain": [
       "1"
      ]
     },
     "execution_count": 26,
     "metadata": {},
     "output_type": "execute_result"
    }
   ],
   "source": [
    "torch.cuda.device_count()"
   ]
  },
  {
   "cell_type": "code",
   "execution_count": 27,
   "metadata": {
    "colab": {
     "base_uri": "https://localhost:8080/"
    },
    "id": "wQNv8LAHMAOQ",
    "outputId": "e2a175a2-79f5-4ec5-8932-41ae80ec9b7d"
   },
   "outputs": [
    {
     "data": {
      "text/plain": [
       "'NVIDIA GeForce RTX 3050 Laptop GPU'"
      ]
     },
     "execution_count": 27,
     "metadata": {},
     "output_type": "execute_result"
    }
   ],
   "source": [
    "torch.cuda.get_device_name(0)"
   ]
  },
  {
   "cell_type": "code",
   "execution_count": 25,
   "metadata": {
    "colab": {
     "base_uri": "https://localhost:8080/"
    },
    "id": "jNnepNJRL3KJ",
    "outputId": "336cedaa-374a-4960-8009-66327843f06a"
   },
   "outputs": [
    {
     "name": "stdout",
     "output_type": "stream",
     "text": [
      "cuda:0\n"
     ]
    }
   ],
   "source": [
    "device = torch.device(\"cuda:0\" if torch.cuda.is_available() else \"cpu\")\n",
    "print(device)"
   ]
  },
  {
   "cell_type": "code",
   "execution_count": 28,
   "metadata": {
    "colab": {
     "base_uri": "https://localhost:8080/"
    },
    "id": "oBRfzGibMFE5",
    "outputId": "25140f02-a318-47d1-ee6a-e0ff810a85d8"
   },
   "outputs": [
    {
     "name": "stdout",
     "output_type": "stream",
     "text": [
      "NVIDIA GeForce RTX 3050 Laptop GPU\n",
      "Memory Usage:\n",
      "Allocated: 0.0 GB\n",
      "Cached:    0.0 GB\n"
     ]
    },
    {
     "name": "stderr",
     "output_type": "stream",
     "text": [
      "D:\\Python\\lib\\site-packages\\torch\\cuda\\memory.py:444: FutureWarning: torch.cuda.memory_cached has been renamed to torch.cuda.memory_reserved\n",
      "  warnings.warn(\n"
     ]
    }
   ],
   "source": [
    "if device.type == 'cuda':\n",
    "    print(torch.cuda.get_device_name(0))\n",
    "    print('Memory Usage:')\n",
    "    print('Allocated:', round(torch.cuda.memory_allocated(0)/1024**3,1), 'GB')\n",
    "    print('Cached:   ', round(torch.cuda.memory_cached(0)/1024**3,1), 'GB')\n"
   ]
  }
 ],
 "metadata": {
  "accelerator": "GPU",
  "colab": {
   "gpuType": "T4",
   "provenance": []
  },
  "kernelspec": {
   "display_name": "Python 3 (ipykernel)",
   "language": "python",
   "name": "python3"
  },
  "language_info": {
   "codemirror_mode": {
    "name": "ipython",
    "version": 3
   },
   "file_extension": ".py",
   "mimetype": "text/x-python",
   "name": "python",
   "nbconvert_exporter": "python",
   "pygments_lexer": "ipython3",
   "version": "3.6.15"
  }
 },
 "nbformat": 4,
 "nbformat_minor": 1
}
